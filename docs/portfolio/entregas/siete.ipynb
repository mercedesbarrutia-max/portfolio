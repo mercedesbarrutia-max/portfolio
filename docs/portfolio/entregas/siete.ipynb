{
 "cells": [
  {
   "cell_type": "code",
   "execution_count": 4,
   "id": "c723b63b",
   "metadata": {},
   "outputs": [
    {
     "name": "stdout",
     "output_type": "stream",
     "text": [
      "Requirement already satisfied: fairlearn in /Users/merbarrutia/.pyenv/versions/3.10.13/lib/python3.10/site-packages (0.12.0)\n",
      "Requirement already satisfied: numpy>=1.24.4 in /Users/merbarrutia/.pyenv/versions/3.10.13/lib/python3.10/site-packages (from fairlearn) (2.2.6)\n",
      "Requirement already satisfied: pandas>=2.0.3 in /Users/merbarrutia/.pyenv/versions/3.10.13/lib/python3.10/site-packages (from fairlearn) (2.2.3)\n",
      "Requirement already satisfied: scikit-learn>=1.2.1 in /Users/merbarrutia/.pyenv/versions/3.10.13/lib/python3.10/site-packages (from fairlearn) (1.5.2)\n",
      "Requirement already satisfied: scipy>=1.9.3 in /Users/merbarrutia/.pyenv/versions/3.10.13/lib/python3.10/site-packages (from fairlearn) (1.15.3)\n",
      "Requirement already satisfied: python-dateutil>=2.8.2 in /Users/merbarrutia/.pyenv/versions/3.10.13/lib/python3.10/site-packages (from pandas>=2.0.3->fairlearn) (2.9.0.post0)\n",
      "Requirement already satisfied: pytz>=2020.1 in /Users/merbarrutia/.pyenv/versions/3.10.13/lib/python3.10/site-packages (from pandas>=2.0.3->fairlearn) (2025.2)\n",
      "Requirement already satisfied: tzdata>=2022.7 in /Users/merbarrutia/.pyenv/versions/3.10.13/lib/python3.10/site-packages (from pandas>=2.0.3->fairlearn) (2025.2)\n",
      "Requirement already satisfied: six>=1.5 in /Users/merbarrutia/.pyenv/versions/3.10.13/lib/python3.10/site-packages (from python-dateutil>=2.8.2->pandas>=2.0.3->fairlearn) (1.17.0)\n",
      "Requirement already satisfied: joblib>=1.2.0 in /Users/merbarrutia/.pyenv/versions/3.10.13/lib/python3.10/site-packages (from scikit-learn>=1.2.1->fairlearn) (1.4.2)\n",
      "Requirement already satisfied: threadpoolctl>=3.1.0 in /Users/merbarrutia/.pyenv/versions/3.10.13/lib/python3.10/site-packages (from scikit-learn>=1.2.1->fairlearn) (3.6.0)\n",
      "⚖️ PRÁCTICA 7: Detectar y Corregir Sesgo con Fairlearn\n",
      "📊 Parte I: Boston Housing (sesgo racial histórico)\n",
      "🚢 Parte II: Titanic (sesgo género + clase)\n",
      "🔧 Parte III: Pipeline automático producción\n"
     ]
    }
   ],
   "source": [
    "!pip install fairlearn\n",
    "\n",
    "import pandas as pd\n",
    "import numpy as np\n",
    "import matplotlib.pyplot as plt\n",
    "import seaborn as sns\n",
    "\n",
    "# Scikit-learn\n",
    "from sklearn.linear_model import LinearRegression\n",
    "from sklearn.ensemble import RandomForestClassifier\n",
    "from sklearn.model_selection import train_test_split\n",
    "from sklearn.metrics import accuracy_score, r2_score, mean_squared_error\n",
    "\n",
    "# Fairlearn - La estrella del show\n",
    "from fairlearn.metrics import (\n",
    "    MetricFrame, \n",
    "    demographic_parity_difference, \n",
    "    equalized_odds_difference,\n",
    "    selection_rate\n",
    ")\n",
    "from fairlearn.reductions import ExponentiatedGradient, DemographicParity\n",
    "\n",
    "import warnings\n",
    "warnings.filterwarnings('ignore')\n",
    "\n",
    "plt.style.use('seaborn-v0_8')\n",
    "sns.set_palette(\"husl\")\n",
    "np.random.seed(42)\n",
    "\n",
    "print(\"⚖️ PRÁCTICA 7: Detectar y Corregir Sesgo con Fairlearn\")\n",
    "print(\"📊 Parte I: Boston Housing (sesgo racial histórico)\")\n",
    "print(\"🚢 Parte II: Titanic (sesgo género + clase)\")\n",
    "print(\"🔧 Parte III: Pipeline automático producción\")"
   ]
  },
  {
   "cell_type": "code",
   "execution_count": 6,
   "id": "07a57062",
   "metadata": {},
   "outputs": [
    {
     "name": "stdout",
     "output_type": "stream",
     "text": [
      "✅ Boston Housing cargado: (506, 13)\n",
      "🚨 Variable B (racial): correlación = 0.333\n",
      "📊 Proporción racial media: 1.216\n"
     ]
    }
   ],
   "source": [
    "# Cargar desde fuente original (CMU)\n",
    "\n",
    "data_url = \"http://lib.stat.cmu.edu/datasets/boston\"\n",
    "raw_df = pd.read_csv(data_url, sep=\"\\s+\", skiprows=22, header=None)\n",
    "\n",
    "# Restructurar formato especial\n",
    "data = np.hstack([raw_df.values[::2, :], raw_df.values[1::2, :2]])\n",
    "target = raw_df.values[1::2, 2]\n",
    "\n",
    "print(f\"✅ Boston Housing cargado: {data.shape}\")\n",
    "\n",
    "feature_names = ['CRIM', 'ZN', 'INDUS', 'CHAS', 'NOX', 'RM', 'AGE', \n",
    "                'DIS', 'RAD', 'TAX', 'PTRATIO', 'B', 'LSTAT']\n",
    "\n",
    "boston_df = pd.DataFrame(data, columns=feature_names)\n",
    "boston_df['MEDV'] = target\n",
    "\n",
    "# Decodificar variable B problemática\n",
    "# B = 1000(Bk - 0.63)² → Bk = sqrt(B/1000) + 0.63\n",
    "boston_df['Bk_racial'] = np.sqrt(boston_df['B'] / 1000) + 0.63\n",
    "\n",
    "print(f\"🚨 Variable B (racial): correlación = {boston_df['B'].corr(boston_df['MEDV']):.3f}\")\n",
    "print(f\"📊 Proporción racial media: {boston_df['Bk_racial'].mean():.3f}\")"
   ]
  },
  {
   "cell_type": "code",
   "execution_count": 7,
   "id": "831d80de",
   "metadata": {},
   "outputs": [
    {
     "name": "stdout",
     "output_type": "stream",
     "text": [
      "🔴 Boston CON sesgo: R² = 0.7112\n"
     ]
    }
   ],
   "source": [
    "# Preparar features con y sin variable racial\n",
    "X_with_bias = boston_df.drop(['MEDV', 'Bk_racial'], axis=1)\n",
    "X_without_bias = X_with_bias.drop(['B'], axis=1)\n",
    "y_boston = boston_df['MEDV']\n",
    "\n",
    "# Train modelo con sesgo\n",
    "X_train, X_test, y_train, y_test = train_test_split(\n",
    "    X_with_bias, y_boston, test_size=0.3, random_state=42\n",
    ")\n",
    "\n",
    "boston_biased_model = LinearRegression()\n",
    "boston_biased_model.fit(X_train, y_train)\n",
    "boston_biased_pred = boston_biased_model.predict(X_test)\n",
    "\n",
    "boston_biased_r2 = r2_score(y_test, boston_biased_pred)\n",
    "print(f\"🔴 Boston CON sesgo: R² = {boston_biased_r2:.4f}\")"
   ]
  },
  {
   "cell_type": "code",
   "execution_count": 8,
   "id": "82a4b20e",
   "metadata": {},
   "outputs": [
    {
     "name": "stdout",
     "output_type": "stream",
     "text": [
      "👥 GRUPOS POR PROPORCIÓN RACIAL:\n",
      "grupo_racial\n",
      "Alta_prop_afroam    253\n",
      "Baja_prop_afroam    253\n",
      "Name: count, dtype: int64\n",
      "\n",
      "💰 DISTRIBUCIÓN DE PRECIOS POR GRUPO RACIAL:\n",
      "                       mean  median        std  count\n",
      "grupo_racial                                         \n",
      "Alta_prop_afroam  22.810672    22.0   7.994651    253\n",
      "Baja_prop_afroam  22.254941    20.4  10.268380    253\n",
      "\n",
      "🚨 BRECHA DE PRECIOS POR SESGO RACIAL:\n",
      "Diferencia promedio: $-0.56k (-2.4%)\n",
      "Baja prop. afroam: $22.25k\n",
      "Alta prop. afroam: $22.81k\n"
     ]
    },
    {
     "data": {
      "image/png": "[encoded data removed]",
      "text/plain": [
       "<Figure size 1200x500 with 2 Axes>"
      ]
     },
     "metadata": {},
     "output_type": "display_data"
    },
    {
     "name": "stdout",
     "output_type": "stream",
     "text": [
      "📊 VISUALIZACIÓN: ¿Se observa sesgo sistemático en las distribuciones?\n"
     ]
    }
   ],
   "source": [
    "# PASO 4A: Crear grupos por proporción racial  \n",
    "racial_threshold = boston_df['Bk_racial'].median()  # mediana\n",
    "boston_df['grupo_racial'] = (boston_df['Bk_racial'] > racial_threshold).map({\n",
    "    True: 'Alta_prop_afroam', \n",
    "    False: 'Baja_prop_afroam'\n",
    "})\n",
    "\n",
    "print(f\"👥 GRUPOS POR PROPORCIÓN RACIAL:\")\n",
    "print(boston_df['grupo_racial'].value_counts())\n",
    "\n",
    "# PASO 4B: Análisis de distribución de precios por grupo\n",
    "print(f\"\\n💰 DISTRIBUCIÓN DE PRECIOS POR GRUPO RACIAL:\")\n",
    "price_by_group = boston_df.groupby('grupo_racial')['MEDV'].agg(['mean', 'median', 'std', 'count'])\n",
    "print(price_by_group)\n",
    "\n",
    "# PASO 4C: Calcular brecha de precios\n",
    "price_gap = price_by_group.loc['Baja_prop_afroam', 'mean'] - price_by_group.loc['Alta_prop_afroam', 'mean']\n",
    "price_gap_pct = (price_gap / price_by_group.loc['Alta_prop_afroam', 'mean']) * 100\n",
    "\n",
    "print(f\"\\n🚨 BRECHA DE PRECIOS POR SESGO RACIAL:\")\n",
    "print(f\"Diferencia promedio: ${price_gap:.2f}k ({price_gap_pct:.1f}%)\")\n",
    "print(f\"Baja prop. afroam: ${price_by_group.loc['Baja_prop_afroam', 'mean']:.2f}k\")\n",
    "print(f\"Alta prop. afroam: ${price_by_group.loc['Alta_prop_afroam', 'mean']:.2f}k\")\n",
    "\n",
    "# PASO 4D: Visualizar el sesgo\n",
    "import matplotlib.pyplot as plt\n",
    "\n",
    "fig, axes = plt.subplots(1, 2, figsize=(12, 5))\n",
    "\n",
    "# Histograma de precios por grupo\n",
    "for group in boston_df['grupo_racial'].unique():\n",
    "    data = boston_df[boston_df['grupo_racial'] == group]['MEDV']\n",
    "    axes[0].hist(data, alpha=0.7, label=group, bins=20)\n",
    "axes[0].set_xlabel('Precio (miles $)')\n",
    "axes[0].set_ylabel('Frecuencia')\n",
    "axes[0].set_title('Distribución de Precios por Grupo Racial')\n",
    "axes[0].legend()\n",
    "\n",
    "# Boxplot comparativo\n",
    "boston_df.boxplot(column='MEDV', by='grupo_racial', ax=axes[1])\n",
    "axes[1].set_title('Precios por Grupo Racial')\n",
    "axes[1].set_xlabel('Grupo Racial')\n",
    "axes[1].set_ylabel('Precio (miles $)')\n",
    "\n",
    "plt.tight_layout()\n",
    "plt.show()\n",
    "\n",
    "print(f\"📊 VISUALIZACIÓN: ¿Se observa sesgo sistemático en las distribuciones?\")"
   ]
  },
  {
   "cell_type": "code",
   "execution_count": 10,
   "id": "df1a06b9",
   "metadata": {},
   "outputs": [
    {
     "name": "stdout",
     "output_type": "stream",
     "text": [
      "⚖️ REFLEXIÓN ÉTICA SOBRE VARIABLE B\n",
      "==================================================\n",
      "\n",
      "🤔 PREGUNTAS PARA REFLEXIONAR:\n",
      "\n",
      "1. CONTEXTO HISTÓRICO:\n",
      "   - La variable B fue diseñada en 1978\n",
      "   - Codifica proporción de población afroamericana\n",
      "   - Correlación con precios: 0.333\n",
      "   ❓ ¿Es ético usar esta variable en 2025?\n",
      "NO\n",
      "\n",
      "2. DILEMA DE UTILIDAD:\n",
      "   - La variable B es predictiva (mejora el modelo)\n",
      "   - Pero perpetúa sesgos raciales históricos\n",
      "   ❓ ¿Cuándo la utilidad justifica el sesgo?\n",
      "Depende del uso que se le quiera dar, ejemplo: se entrena con datos de determinada raza y los resultados solo se van a usar con esa raza determinada. Igualmente, es muy raro que el sesgo este justificado, siempre debemos evitarlo.\n",
      "\n",
      "3. RESPONSABILIDAD PROFESIONAL:\n",
      "   - Sklearn removió este dataset por razones éticas\n",
      "   - Nosotros lo usamos para APRENDER sobre sesgo\n",
      "   ❓ ¿Cuál es nuestra responsabilidad como data scientists?\n",
      "No utilizar estos datos por fuera de fines academicos ni compartir el trabajo.\n",
      "\n",
      "4. ALTERNATIVAS ÉTICAS:\n",
      "   - Podemos eliminar la variable B\n",
      "   - Podemos documentar sus limitaciones\n",
      "   - Podemos buscar proxies menos problemáticos\n",
      "   ❓ ¿Qué harías en un contexto real?\n",
      "Se prohibe el uso de la base y se evita sesgo ético\n",
      "\n",
      "📊 ANÁLISIS DE VARIABLES ALTERNATIVAS:\n",
      "Variables que podrían ser menos problemáticas:\n",
      "  LSTAT: correlación = -0.738\n",
      "  RM: correlación = 0.695\n",
      "  CRIM: correlación = -0.388\n",
      "  TAX: correlación = -0.469\n",
      "  PTRATIO: correlación = -0.508\n",
      "\n",
      "💡 OBSERVACIÓN:\n",
      "Algunas variables tienen correlaciones altas sin sesgo racial explícito\n",
      "\n",
      "🎯 MARCO DE DECISIÓN PARA VARIABLE PROBLEMÁTICA:\n",
      "==================================================\n",
      "\n",
      "✅ USAR variable B SI:\n",
      "  - Contexto es puramente académico/educativo\n",
      "  - Se documenta explícitamente su naturaleza problemática\n",
      "  - El objetivo es estudiar/detectar sesgo histórico\n",
      "\n",
      "❌ NO USAR variable B SI:\n",
      "  - El modelo se usará en producción\n",
      "  - Afectará decisiones sobre personas reales\n",
      "  - Existe riesgo de perpetuar discriminación\n",
      "\n",
      "⚖️ TU DECISIÓN ÉTICA:\n",
      "Basado en el análisis, ¿usarías la variable B en tu modelo?\n",
      "¿Por qué? ¿Qué consideraciones éticas son más importantes?\n",
      "\n",
      "📋 DECISIÓN DOCUMENTADA: USAR SOLO PARA EDUCACIÓN - NO PARA PRODUCCIÓN\n",
      "📝 Justificación: Variable históricamente sesgada, útil para detectar sesgo pero inapropiada para modelos de producción\n"
     ]
    }
   ],
   "source": [
    "# PASO 5A: Reflexión guiada sobre el uso ético de variable B\n",
    "print(\"⚖️ REFLEXIÓN ÉTICA SOBRE VARIABLE B\")\n",
    "print(\"=\"*50)\n",
    "\n",
    "print(f\"\\n🤔 PREGUNTAS PARA REFLEXIONAR:\")\n",
    "\n",
    "print(f\"\\n1. CONTEXTO HISTÓRICO:\")\n",
    "print(f\"   - La variable B fue diseñada en 1978\")\n",
    "print(f\"   - Codifica proporción de población afroamericana\") \n",
    "print(f\"   - Correlación con precios: {boston_df['B'].corr(boston_df['MEDV']):.3f}\")\n",
    "print(f\"   ❓ ¿Es ético usar esta variable en 2025?\")\n",
    "print(\"NO\")\n",
    "\n",
    "print(f\"\\n2. DILEMA DE UTILIDAD:\")\n",
    "print(f\"   - La variable B es predictiva (mejora el modelo)\")\n",
    "print(f\"   - Pero perpetúa sesgos raciales históricos\")\n",
    "print(f\"   ❓ ¿Cuándo la utilidad justifica el sesgo?\")\n",
    "print(\"Depende del uso que se le quiera dar, ejemplo: se entrena con datos de determinada raza y los resultados \" \\\n",
    "\"solo se van a usar con esa raza determinada. Igualmente, es muy raro que el sesgo este justificado, siempre debemos evitarlo.\")\n",
    "\n",
    "print(f\"\\n3. RESPONSABILIDAD PROFESIONAL:\")\n",
    "print(f\"   - Sklearn removió este dataset por razones éticas\")\n",
    "print(f\"   - Nosotros lo usamos para APRENDER sobre sesgo\")\n",
    "print(f\"   ❓ ¿Cuál es nuestra responsabilidad como data scientists?\")\n",
    "print(\"No utilizar estos datos por fuera de fines academicos ni compartir el trabajo.\")\n",
    "\n",
    "print(f\"\\n4. ALTERNATIVAS ÉTICAS:\")\n",
    "print(f\"   - Podemos eliminar la variable B\")\n",
    "print(f\"   - Podemos documentar sus limitaciones\") \n",
    "print(f\"   - Podemos buscar proxies menos problemáticos\")\n",
    "print(f\"   ❓ ¿Qué harías en un contexto real?\")\n",
    "print(\"Se prohibe el uso de la base y se evita sesgo ético\")\n",
    "\n",
    "# PASO 5B: Análisis de correlaciones alternativas\n",
    "print(f\"\\n📊 ANÁLISIS DE VARIABLES ALTERNATIVAS:\")\n",
    "print(f\"Variables que podrían ser menos problemáticas:\")\n",
    "\n",
    "alternative_vars = ['LSTAT', 'RM', 'CRIM', 'TAX', 'PTRATIO']\n",
    "for var in alternative_vars:\n",
    "    corr = boston_df[var].corr(boston_df['MEDV'])\n",
    "    print(f\"  {var}: correlación = {corr:.3f}\")\n",
    "\n",
    "print(f\"\\n💡 OBSERVACIÓN:\")\n",
    "print(f\"Algunas variables tienen correlaciones altas sin sesgo racial explícito\")\n",
    "\n",
    "# PASO 5C: Marco de decisión ética\n",
    "print(f\"\\n🎯 MARCO DE DECISIÓN PARA VARIABLE PROBLEMÁTICA:\")\n",
    "print(f\"=\"*50)\n",
    "\n",
    "print(f\"\\n✅ USAR variable B SI:\")\n",
    "print(f\"  - Contexto es puramente académico/educativo\")\n",
    "print(f\"  - Se documenta explícitamente su naturaleza problemática\") \n",
    "print(f\"  - El objetivo es estudiar/detectar sesgo histórico\")\n",
    "\n",
    "print(f\"\\n❌ NO USAR variable B SI:\")\n",
    "print(f\"  - El modelo se usará en producción\")\n",
    "print(f\"  - Afectará decisiones sobre personas reales\")\n",
    "print(f\"  - Existe riesgo de perpetuar discriminación\")\n",
    "\n",
    "print(f\"\\n⚖️ TU DECISIÓN ÉTICA:\")\n",
    "print(f\"Basado en el análisis, ¿usarías la variable B en tu modelo?\")\n",
    "print(f\"¿Por qué? ¿Qué consideraciones éticas son más importantes?\")\n",
    "\n",
    "# PASO 5D: Documentar la decisión\n",
    "boston_ethical_decision = \"USAR SOLO PARA EDUCACIÓN - NO PARA PRODUCCIÓN\"\n",
    "print(f\"\\n📋 DECISIÓN DOCUMENTADA: {boston_ethical_decision}\")\n",
    "print(f\"📝 Justificación: Variable históricamente sesgada, útil para detectar sesgo pero inapropiada para modelos de producción\")"
   ]
  },
  {
   "cell_type": "code",
   "execution_count": 16,
   "id": "6086bc4c",
   "metadata": {},
   "outputs": [
    {
     "name": "stdout",
     "output_type": "stream",
     "text": [
      "🚨 TITANIC BIAS ANALYSIS:\n",
      "Gender gap: 54.8%\n",
      "Class gap: 41.3%\n",
      "✅ Ambos tipos de sesgo significativos!\n"
     ]
    }
   ],
   "source": [
    "# Cargar Titanic\n",
    "try:\n",
    "    titanic = sns.load_dataset(\"titanic\")  # load_dataset\n",
    "except:\n",
    "    titanic = pd.read_csv(\"https://raw.githubusercontent.com/datasciencedojo/datasets/master/titanic.csv\")\n",
    "\n",
    "titanic_clean = titanic.dropna(subset=['age', 'embarked'])  # dropna\n",
    "\n",
    "# Análisis rápido de sesgo\n",
    "gender_survival = titanic_clean.groupby('sex')['survived'].mean()  # mean\n",
    "class_survival = titanic_clean.groupby('pclass')['survived'].mean()\n",
    "\n",
    "print(f\"🚨 TITANIC BIAS ANALYSIS:\")\n",
    "print(f\"Gender gap: {gender_survival['female'] - gender_survival['male']:.1%}\")\n",
    "print(f\"Class gap: {class_survival[1] - class_survival[3]:.1%}\")\n",
    "print(\"✅ Ambos tipos de sesgo significativos!\")"
   ]
  },
  {
   "cell_type": "code",
   "execution_count": 17,
   "id": "51555867",
   "metadata": {},
   "outputs": [
    {
     "name": "stdout",
     "output_type": "stream",
     "text": [
      "🔴 Titanic BASELINE: Accuracy = 0.673\n",
      "🚨 Demographic Parity Diff: 0.113\n"
     ]
    }
   ],
   "source": [
    "# Preparar datos Titanic\n",
    "features_titanic = ['pclass', 'age', 'sibsp', 'parch', 'fare']\n",
    "X_titanic = titanic_clean[features_titanic].copy()\n",
    "X_titanic['fare'].fillna(X_titanic['fare'].median(), inplace=True)  # fillna\n",
    "y_titanic = titanic_clean['survived']\n",
    "sensitive_titanic = titanic_clean['sex']\n",
    "\n",
    "# Train baseline\n",
    "X_train_t, X_test_t, y_train_t, y_test_t, A_train_t, A_test_t = train_test_split(\n",
    "    X_titanic, y_titanic, sensitive_titanic, test_size=0.3, random_state=42, stratify=y_titanic\n",
    ")\n",
    "\n",
    "titanic_baseline = RandomForestClassifier(n_estimators=100, random_state=42)\n",
    "titanic_baseline.fit(X_train_t, y_train_t)\n",
    "titanic_baseline_pred = titanic_baseline.predict(X_test_t)\n",
    "\n",
    "titanic_baseline_acc = accuracy_score(y_test_t, titanic_baseline_pred)\n",
    "titanic_baseline_dp = demographic_parity_difference(\n",
    "    y_test_t, titanic_baseline_pred, sensitive_features=A_test_t\n",
    ")\n",
    "\n",
    "print(f\"🔴 Titanic BASELINE: Accuracy = {titanic_baseline_acc:.3f}\")\n",
    "print(f\"🚨 Demographic Parity Diff: {titanic_baseline_dp:.3f}\")"
   ]
  },
  {
   "cell_type": "code",
   "execution_count": 18,
   "id": "38452f13",
   "metadata": {},
   "outputs": [
    {
     "name": "stdout",
     "output_type": "stream",
     "text": [
      "🔧 Aplicando Fairlearn a Titanic...\n",
      "🟢 Titanic FAIR: Accuracy = 0.617\n",
      "⚖️ Demographic Parity Diff: 0.035\n"
     ]
    }
   ],
   "source": [
    "# Aplicar ExponentiatedGradient a Titanic\n",
    "titanic_fair = ExponentiatedGradient(\n",
    "    RandomForestClassifier(n_estimators=100, random_state=42),\n",
    "    constraints=DemographicParity()\n",
    ")\n",
    "\n",
    "print(\"🔧 Aplicando Fairlearn a Titanic...\")\n",
    "titanic_fair.fit(X_train_t, y_train_t, sensitive_features=A_train_t)\n",
    "titanic_fair_pred = titanic_fair.predict(X_test_t)\n",
    "\n",
    "titanic_fair_acc = accuracy_score(y_test_t, titanic_fair_pred)\n",
    "titanic_fair_dp = demographic_parity_difference(\n",
    "    y_test_t, titanic_fair_pred, sensitive_features=A_test_t\n",
    ")\n",
    "\n",
    "print(f\"🟢 Titanic FAIR: Accuracy = {titanic_fair_acc:.3f}\")\n",
    "print(f\"⚖️ Demographic Parity Diff: {titanic_fair_dp:.3f}\")"
   ]
  },
  {
   "cell_type": "code",
   "execution_count": null,
   "id": "b8d64894",
   "metadata": {},
   "outputs": [
    {
     "name": "stdout",
     "output_type": "stream",
     "text": [
      "📊 TITANIC TRADE-OFF:\n",
      "Performance loss: 8.3%\n",
      "Fairness gain: 0.079\n",
      "📋 Recomendación Titanic: ⚠️ Evaluar caso por caso\n"
     ]
    }
   ],
   "source": [
    "titanic_performance_loss = (titanic_baseline_acc - titanic_fair_acc) / titanic_baseline_acc * 100\n",
    "titanic_fairness_gain = abs(titanic_baseline_dp) - abs(titanic_fair_dp)\n",
    "\n",
    "print(f\"📊 TITANIC TRADE-OFF:\")\n",
    "print(f\"Performance loss: {titanic_performance_loss:.1f}%\")  \n",
    "print(f\"Fairness gain: {titanic_fairness_gain:.3f}\")\n",
    "\n",
    "if titanic_performance_loss < 5 and titanic_fairness_gain > 0.1:\n",
    "    titanic_recommendation = \"✅ Usar modelo FAIR - excelente trade-off\"\n",
    "else:\n",
    "    titanic_recommendation = \"⚠️ Evaluar caso por caso\"\n",
    "\n",
    "print(f\"📋 Recomendación Titanic: {titanic_recommendation}\")"
   ]
  },
  {
   "cell_type": "markdown",
   "id": "34266500",
   "metadata": {},
   "source": [
    "¿Qué has aprendido sobre DETECTAR sesgo y decidir estrategias éticas?\n",
    "\n",
    "📊 Resultados por Dataset:¶\n",
    "\n",
    "Análisis de Detección de Sesgo:\n",
    "\n",
    "Dataset 1 (Regresión): Brecha detectada = -2.4%\n",
    "Impacto en modelo: \n",
    "Decisión ética: Tiene sesgo racial, por lo que no debemos usarlo. Solo con fines académicos para trabajar con sesgo.\n",
    "\n",
    "Dataset 2 (Clasificación): Brecha detectada = Gender gap: 54.8% y Class gap: 41.3%\n",
    "Técnica aplicada: Performance loss =  8.3% después de corrección y Fairness gain: 0.079\n",
    "Decisión ética: No deberiamos filtrar por sexo y clase, estas tienen una brecha muy grande y sesgada.\n",
    "\n",
    "Detección vs Corrección: Cada estrategia apropiada para diferentes contextos\n",
    "Sesgo histórico: Más complejo de corregir que sesgo sistemático\n",
    "Context matters: Dominio determina tolerancia al sesgo\n",
    "Frameworks universales: Posibles pero requieren adaptación por caso\n",
    "Reflexiones Éticas Críticas: \n",
    "\n",
    "¿Cuándo es más valioso detectar que corregir automáticamente?\n",
    "* Detectar es más valioso cuando el sesgo es por factores históricos que no se pueden arreglar, y necesitamos transparencia para comprender cómo se manifiesta. También cuando se trata de aplicaciones sensibles donde una corrección automática puede generar problemas.\n",
    "\n",
    "¿Cómo balancear transparencia vs utilidad cuando persiste el sesgo?\n",
    "* Transparencia se garantiza documentando el sesgo y sus efectos, utilidad implica decidir si el modelo aún puede ser aplicado bajo ciertos límites y el balance se logra mediante explicabilidad. \n",
    "\n",
    "\n",
    "¿Qué responsabilidades éticas tenemos con sesgos históricos no corregibles?\n",
    "* Reconocerlos, no ocultarlos y evitar reforzarlos.\n",
    "\n",
    "CRÍTICO: ¿Es mejor un modelo con sesgo conocido y documentado vs uno \"corregido\" pero impredecible?\n",
    "* En la mayoría de los casos es preferible un modelo con sesgo conocido y documentado porque permite tomar decisiones conscientes. El otro nos serviría para trabajar eficientemente en lugar de analizando correlación e influencia de variables."
   ]
  },
  {
   "cell_type": "markdown",
   "id": "57c44bf1",
   "metadata": {},
   "source": [
    "# Entrega extendida"
   ]
  },
  {
   "cell_type": "code",
   "execution_count": null,
   "id": "b22b2db9",
   "metadata": {},
   "outputs": [],
   "source": [
    "\"\"\"\n",
    "MATI: tenes que Aplicar los conocimientos de esta entrega en la base de ames housing (la de las entregas 4 y 5)\n",
    "Luego de hacer eso, deberías tener estos valores: \n",
    "\n",
    "Brecha geográfica: {completar con tu resultado}% entre barrios más y menos caros\n",
    "Brecha temporal: {completar}% diferencia entre casas nuevas vs antiguas\n",
    "Decisión ética: {tu evaluación sobre uso en decisiones hipotecarias}\"\"\"\n",
    "\n",
    "\n",
    "\n",
    "\n"
   ]
  }
 ],
 "metadata": {
  "kernelspec": {
   "display_name": "3.10.13",
   "language": "python",
   "name": "python3"
  },
  "language_info": {
   "codemirror_mode": {
    "name": "ipython",
    "version": 3
   },
   "file_extension": ".py",
   "mimetype": "text/x-python",
   "name": "python",
   "nbconvert_exporter": "python",
   "pygments_lexer": "ipython3",
   "version": "3.10.13"
  }
 },
 "nbformat": 4,
 "nbformat_minor": 5
}
